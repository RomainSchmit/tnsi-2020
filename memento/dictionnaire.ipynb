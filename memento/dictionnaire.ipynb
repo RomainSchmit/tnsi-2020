{
  "nbformat": 4,
  "nbformat_minor": 0,
  "metadata": {
    "colab": {
      "name": "Untitled1.ipynb",
      "provenance": [],
      "authorship_tag": "ABX9TyMJlpnlrA4BmDg8+BBMz2DE",
      "include_colab_link": true
    },
    "kernelspec": {
      "name": "python3",
      "display_name": "Python 3"
    }
  },
  "cells": [
    {
      "cell_type": "markdown",
      "metadata": {
        "id": "view-in-github",
        "colab_type": "text"
      },
      "source": [
        "<a href=\"https://colab.research.google.com/github/thfruchart/tnsi-2020/blob/master/memento/dictionnaire.ipynb\" target=\"_parent\"><img src=\"https://colab.research.google.com/assets/colab-badge.svg\" alt=\"Open In Colab\"/></a>"
      ]
    },
    {
      "cell_type": "markdown",
      "metadata": {
        "id": "abeNfEnxrquX",
        "colab_type": "text"
      },
      "source": [
        "# Dictionnaires"
      ]
    },
    {
      "cell_type": "markdown",
      "metadata": {
        "id": "GBnNjzNgruL1",
        "colab_type": "text"
      },
      "source": [
        "Créer un dictionnaire vide"
      ]
    },
    {
      "cell_type": "code",
      "metadata": {
        "id": "8veWWotfrqHL",
        "colab_type": "code",
        "colab": {}
      },
      "source": [
        "d = {}"
      ],
      "execution_count": 1,
      "outputs": []
    },
    {
      "cell_type": "code",
      "metadata": {
        "id": "Qj2aLiPEr0mV",
        "colab_type": "code",
        "colab": {
          "base_uri": "https://localhost:8080/",
          "height": 34
        },
        "outputId": "a809e7ca-d305-4790-db9d-4b9df8546783"
      },
      "source": [
        "d"
      ],
      "execution_count": 2,
      "outputs": [
        {
          "output_type": "execute_result",
          "data": {
            "text/plain": [
              "{}"
            ]
          },
          "metadata": {
            "tags": []
          },
          "execution_count": 2
        }
      ]
    },
    {
      "cell_type": "code",
      "metadata": {
        "id": "1M42pCnVr2dN",
        "colab_type": "code",
        "colab": {
          "base_uri": "https://localhost:8080/",
          "height": 34
        },
        "outputId": "c37703ef-21c7-4170-8b76-d863e45571f5"
      },
      "source": [
        "type(d)"
      ],
      "execution_count": 3,
      "outputs": [
        {
          "output_type": "execute_result",
          "data": {
            "text/plain": [
              "dict"
            ]
          },
          "metadata": {
            "tags": []
          },
          "execution_count": 3
        }
      ]
    },
    {
      "cell_type": "markdown",
      "metadata": {
        "id": "p_JdThFWr6Jd",
        "colab_type": "text"
      },
      "source": [
        "Ajout d'un élément, soit un couple\n",
        "\n",
        "clé : valeur"
      ]
    },
    {
      "cell_type": "code",
      "metadata": {
        "id": "Ld6KrDM4sCMt",
        "colab_type": "code",
        "colab": {}
      },
      "source": [
        "d[\"un\"] = 1"
      ],
      "execution_count": 4,
      "outputs": []
    },
    {
      "cell_type": "code",
      "metadata": {
        "id": "I95YMVDssG9N",
        "colab_type": "code",
        "colab": {}
      },
      "source": [
        "d[\"deux\"]=2"
      ],
      "execution_count": 5,
      "outputs": []
    },
    {
      "cell_type": "code",
      "metadata": {
        "id": "wojxeGYHsKr1",
        "colab_type": "code",
        "colab": {
          "base_uri": "https://localhost:8080/",
          "height": 34
        },
        "outputId": "6c78eb32-5412-4f7c-af1f-50d016ccdaa2"
      },
      "source": [
        "d"
      ],
      "execution_count": 6,
      "outputs": [
        {
          "output_type": "execute_result",
          "data": {
            "text/plain": [
              "{'deux': 2, 'un': 1}"
            ]
          },
          "metadata": {
            "tags": []
          },
          "execution_count": 6
        }
      ]
    },
    {
      "cell_type": "markdown",
      "metadata": {
        "id": "NgPZ4-gTseKm",
        "colab_type": "text"
      },
      "source": [
        "Clés d'un dictionnaire"
      ]
    },
    {
      "cell_type": "code",
      "metadata": {
        "id": "cnMEc1mQsfqW",
        "colab_type": "code",
        "colab": {
          "base_uri": "https://localhost:8080/",
          "height": 34
        },
        "outputId": "2893bdb9-da9f-46cc-ca33-9a13a18b56f1"
      },
      "source": [
        "d.keys()"
      ],
      "execution_count": 7,
      "outputs": [
        {
          "output_type": "execute_result",
          "data": {
            "text/plain": [
              "dict_keys(['un', 'deux'])"
            ]
          },
          "metadata": {
            "tags": []
          },
          "execution_count": 7
        }
      ]
    },
    {
      "cell_type": "markdown",
      "metadata": {
        "id": "KtqOuz1QskkO",
        "colab_type": "text"
      },
      "source": [
        "Valeurs du dictionnaire"
      ]
    },
    {
      "cell_type": "code",
      "metadata": {
        "id": "Fm1P8BeismKX",
        "colab_type": "code",
        "colab": {
          "base_uri": "https://localhost:8080/",
          "height": 34
        },
        "outputId": "d05ab2cb-ce93-4ff8-a39d-ffe4c6ea3bce"
      },
      "source": [
        "d.values()"
      ],
      "execution_count": 8,
      "outputs": [
        {
          "output_type": "execute_result",
          "data": {
            "text/plain": [
              "dict_values([1, 2])"
            ]
          },
          "metadata": {
            "tags": []
          },
          "execution_count": 8
        }
      ]
    },
    {
      "cell_type": "markdown",
      "metadata": {
        "id": "kS0DiCAd8kOt",
        "colab_type": "text"
      },
      "source": [
        "Items d'un dictionnaire"
      ]
    },
    {
      "cell_type": "code",
      "metadata": {
        "id": "nLWhQlnm8mpJ",
        "colab_type": "code",
        "colab": {
          "base_uri": "https://localhost:8080/",
          "height": 34
        },
        "outputId": "dd83427b-6305-4c00-b042-25a323174fae"
      },
      "source": [
        "d.items()"
      ],
      "execution_count": 9,
      "outputs": [
        {
          "output_type": "execute_result",
          "data": {
            "text/plain": [
              "dict_items([('un', 1), ('deux', 2)])"
            ]
          },
          "metadata": {
            "tags": []
          },
          "execution_count": 9
        }
      ]
    },
    {
      "cell_type": "markdown",
      "metadata": {
        "id": "S1cY7Gg4srpf",
        "colab_type": "text"
      },
      "source": [
        "##Modification de la valeur associée à une clé"
      ]
    },
    {
      "cell_type": "code",
      "metadata": {
        "id": "ZVh7yXV9srPv",
        "colab_type": "code",
        "colab": {}
      },
      "source": [
        "d['un'] = 1.0 "
      ],
      "execution_count": null,
      "outputs": []
    },
    {
      "cell_type": "code",
      "metadata": {
        "id": "Z_Dj87mrs4dn",
        "colab_type": "code",
        "colab": {
          "base_uri": "https://localhost:8080/",
          "height": 34
        },
        "outputId": "91b9dc99-06b6-481d-f8a3-019d85835d6a"
      },
      "source": [
        "d"
      ],
      "execution_count": null,
      "outputs": [
        {
          "output_type": "execute_result",
          "data": {
            "text/plain": [
              "{'deux': 2, 'un': 1.0}"
            ]
          },
          "metadata": {
            "tags": []
          },
          "execution_count": 10
        }
      ]
    },
    {
      "cell_type": "code",
      "metadata": {
        "id": "59GdbEwQtCEX",
        "colab_type": "code",
        "colab": {
          "base_uri": "https://localhost:8080/",
          "height": 34
        },
        "outputId": "727dcfb9-3c25-4fbe-8696-5603835da199"
      },
      "source": [
        "'trois' in d"
      ],
      "execution_count": null,
      "outputs": [
        {
          "output_type": "execute_result",
          "data": {
            "text/plain": [
              "False"
            ]
          },
          "metadata": {
            "tags": []
          },
          "execution_count": 11
        }
      ]
    },
    {
      "cell_type": "code",
      "metadata": {
        "id": "vN4i9PCGtFnX",
        "colab_type": "code",
        "colab": {
          "base_uri": "https://localhost:8080/",
          "height": 34
        },
        "outputId": "683562a5-eca0-4478-a7fa-924f2c8a1cd6"
      },
      "source": [
        "'deux' in d"
      ],
      "execution_count": null,
      "outputs": [
        {
          "output_type": "execute_result",
          "data": {
            "text/plain": [
              "True"
            ]
          },
          "metadata": {
            "tags": []
          },
          "execution_count": 12
        }
      ]
    },
    {
      "cell_type": "markdown",
      "metadata": {
        "id": "dkhJJ3LhtMev",
        "colab_type": "text"
      },
      "source": [
        "# Parcours avec une boucle FOR"
      ]
    },
    {
      "cell_type": "markdown",
      "metadata": {
        "id": "UhiUUg9j8xGr",
        "colab_type": "text"
      },
      "source": [
        "## 1. sur les clés du dictionnaire"
      ]
    },
    {
      "cell_type": "code",
      "metadata": {
        "id": "OUYn3Og-tPin",
        "colab_type": "code",
        "colab": {
          "base_uri": "https://localhost:8080/",
          "height": 118
        },
        "outputId": "7d8b7e03-da31-43f1-d468-f82484297573"
      },
      "source": [
        "for k in d : \n",
        "    print('clé : ', k)\n",
        "    print('valeur : ', d[k])\n",
        "    print('---')"
      ],
      "execution_count": null,
      "outputs": [
        {
          "output_type": "stream",
          "text": [
            "clé :  un\n",
            "valeur :  1.0\n",
            "---\n",
            "clé :  deux\n",
            "valeur :  2\n",
            "---\n"
          ],
          "name": "stdout"
        }
      ]
    },
    {
      "cell_type": "markdown",
      "metadata": {
        "id": "ftG0o90585-p",
        "colab_type": "text"
      },
      "source": [
        "## 2. sur les items du dictionnaire"
      ]
    },
    {
      "cell_type": "code",
      "metadata": {
        "id": "uXMAcF0b89DI",
        "colab_type": "code",
        "colab": {
          "base_uri": "https://localhost:8080/",
          "height": 85
        },
        "outputId": "37a6913b-3bd6-4e4a-e2c5-358ae0d11e85"
      },
      "source": [
        "for k,v in d.items():\n",
        "    print('clé : ', k, ' =>  valeur : ', v)\n",
        "    print()\n"
      ],
      "execution_count": 11,
      "outputs": [
        {
          "output_type": "stream",
          "text": [
            "clé :  un  =>  valeur :  1\n",
            "\n",
            "clé :  deux  =>  valeur :  2\n",
            "\n"
          ],
          "name": "stdout"
        }
      ]
    }
  ]
}