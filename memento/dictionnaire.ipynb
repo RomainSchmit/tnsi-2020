{
  "nbformat": 4,
  "nbformat_minor": 0,
  "metadata": {
    "colab": {
      "name": "Untitled1.ipynb",
      "provenance": [],
      "authorship_tag": "ABX9TyOnYDReSe4e+wEMo18+K6LL",
      "include_colab_link": true
    },
    "kernelspec": {
      "name": "python3",
      "display_name": "Python 3"
    }
  },
  "cells": [
    {
      "cell_type": "markdown",
      "metadata": {
        "id": "view-in-github",
        "colab_type": "text"
      },
      "source": [
        "<a href=\"https://colab.research.google.com/github/thfruchart/tnsi-2020/blob/master/memento/dictionnaire.ipynb\" target=\"_parent\"><img src=\"https://colab.research.google.com/assets/colab-badge.svg\" alt=\"Open In Colab\"/></a>"
      ]
    },
    {
      "cell_type": "markdown",
      "metadata": {
        "id": "abeNfEnxrquX",
        "colab_type": "text"
      },
      "source": [
        "# Dictionnaires"
      ]
    },
    {
      "cell_type": "markdown",
      "metadata": {
        "id": "GBnNjzNgruL1",
        "colab_type": "text"
      },
      "source": [
        "Créer un dictionnaire vide"
      ]
    },
    {
      "cell_type": "code",
      "metadata": {
        "id": "8veWWotfrqHL",
        "colab_type": "code",
        "colab": {}
      },
      "source": [
        "d = {}"
      ],
      "execution_count": 1,
      "outputs": []
    },
    {
      "cell_type": "code",
      "metadata": {
        "id": "Qj2aLiPEr0mV",
        "colab_type": "code",
        "colab": {
          "base_uri": "https://localhost:8080/",
          "height": 34
        },
        "outputId": "bc4758ac-6416-4893-d8be-144b964f3865"
      },
      "source": [
        "d"
      ],
      "execution_count": 2,
      "outputs": [
        {
          "output_type": "execute_result",
          "data": {
            "text/plain": [
              "{}"
            ]
          },
          "metadata": {
            "tags": []
          },
          "execution_count": 2
        }
      ]
    },
    {
      "cell_type": "code",
      "metadata": {
        "id": "1M42pCnVr2dN",
        "colab_type": "code",
        "colab": {
          "base_uri": "https://localhost:8080/",
          "height": 34
        },
        "outputId": "5e27fdb7-cada-4115-ee7d-eaf3793d6b61"
      },
      "source": [
        "type(d)"
      ],
      "execution_count": 3,
      "outputs": [
        {
          "output_type": "execute_result",
          "data": {
            "text/plain": [
              "dict"
            ]
          },
          "metadata": {
            "tags": []
          },
          "execution_count": 3
        }
      ]
    },
    {
      "cell_type": "markdown",
      "metadata": {
        "id": "p_JdThFWr6Jd",
        "colab_type": "text"
      },
      "source": [
        "Ajout d'un élément, soit un couple\n",
        "\n",
        "clé : valeur"
      ]
    },
    {
      "cell_type": "code",
      "metadata": {
        "id": "Ld6KrDM4sCMt",
        "colab_type": "code",
        "colab": {}
      },
      "source": [
        "d[\"un\"] = 1"
      ],
      "execution_count": 4,
      "outputs": []
    },
    {
      "cell_type": "code",
      "metadata": {
        "id": "I95YMVDssG9N",
        "colab_type": "code",
        "colab": {}
      },
      "source": [
        "d[\"deux\"]=2"
      ],
      "execution_count": 5,
      "outputs": []
    },
    {
      "cell_type": "code",
      "metadata": {
        "id": "wojxeGYHsKr1",
        "colab_type": "code",
        "colab": {
          "base_uri": "https://localhost:8080/",
          "height": 34
        },
        "outputId": "34110dd2-7587-467b-f124-7e8135fbaf8d"
      },
      "source": [
        "d"
      ],
      "execution_count": 6,
      "outputs": [
        {
          "output_type": "execute_result",
          "data": {
            "text/plain": [
              "{'deux': 2, 'un': 1}"
            ]
          },
          "metadata": {
            "tags": []
          },
          "execution_count": 6
        }
      ]
    },
    {
      "cell_type": "markdown",
      "metadata": {
        "id": "NgPZ4-gTseKm",
        "colab_type": "text"
      },
      "source": [
        "Clés d'un dictionnaire"
      ]
    },
    {
      "cell_type": "code",
      "metadata": {
        "id": "cnMEc1mQsfqW",
        "colab_type": "code",
        "colab": {
          "base_uri": "https://localhost:8080/",
          "height": 34
        },
        "outputId": "a1fbb8a6-3eb9-4179-fe69-22aa235e14d3"
      },
      "source": [
        "d.keys()"
      ],
      "execution_count": 7,
      "outputs": [
        {
          "output_type": "execute_result",
          "data": {
            "text/plain": [
              "dict_keys(['un', 'deux'])"
            ]
          },
          "metadata": {
            "tags": []
          },
          "execution_count": 7
        }
      ]
    },
    {
      "cell_type": "markdown",
      "metadata": {
        "id": "KtqOuz1QskkO",
        "colab_type": "text"
      },
      "source": [
        "Valeurs du dictionnaire"
      ]
    },
    {
      "cell_type": "code",
      "metadata": {
        "id": "Fm1P8BeismKX",
        "colab_type": "code",
        "colab": {
          "base_uri": "https://localhost:8080/",
          "height": 34
        },
        "outputId": "f4298618-db96-47c5-909f-eab2b833efc4"
      },
      "source": [
        "d.values()"
      ],
      "execution_count": 8,
      "outputs": [
        {
          "output_type": "execute_result",
          "data": {
            "text/plain": [
              "dict_values([1, 2])"
            ]
          },
          "metadata": {
            "tags": []
          },
          "execution_count": 8
        }
      ]
    },
    {
      "cell_type": "markdown",
      "metadata": {
        "id": "S1cY7Gg4srpf",
        "colab_type": "text"
      },
      "source": [
        "##Modification de la valeur associée à une clé"
      ]
    },
    {
      "cell_type": "code",
      "metadata": {
        "id": "ZVh7yXV9srPv",
        "colab_type": "code",
        "colab": {}
      },
      "source": [
        "d['un'] = 1.0 "
      ],
      "execution_count": 9,
      "outputs": []
    },
    {
      "cell_type": "code",
      "metadata": {
        "id": "Z_Dj87mrs4dn",
        "colab_type": "code",
        "colab": {
          "base_uri": "https://localhost:8080/",
          "height": 34
        },
        "outputId": "91b9dc99-06b6-481d-f8a3-019d85835d6a"
      },
      "source": [
        "d"
      ],
      "execution_count": 10,
      "outputs": [
        {
          "output_type": "execute_result",
          "data": {
            "text/plain": [
              "{'deux': 2, 'un': 1.0}"
            ]
          },
          "metadata": {
            "tags": []
          },
          "execution_count": 10
        }
      ]
    },
    {
      "cell_type": "code",
      "metadata": {
        "id": "59GdbEwQtCEX",
        "colab_type": "code",
        "colab": {
          "base_uri": "https://localhost:8080/",
          "height": 34
        },
        "outputId": "727dcfb9-3c25-4fbe-8696-5603835da199"
      },
      "source": [
        "'trois' in d"
      ],
      "execution_count": 11,
      "outputs": [
        {
          "output_type": "execute_result",
          "data": {
            "text/plain": [
              "False"
            ]
          },
          "metadata": {
            "tags": []
          },
          "execution_count": 11
        }
      ]
    },
    {
      "cell_type": "code",
      "metadata": {
        "id": "vN4i9PCGtFnX",
        "colab_type": "code",
        "colab": {
          "base_uri": "https://localhost:8080/",
          "height": 34
        },
        "outputId": "683562a5-eca0-4478-a7fa-924f2c8a1cd6"
      },
      "source": [
        "'deux' in d"
      ],
      "execution_count": 12,
      "outputs": [
        {
          "output_type": "execute_result",
          "data": {
            "text/plain": [
              "True"
            ]
          },
          "metadata": {
            "tags": []
          },
          "execution_count": 12
        }
      ]
    },
    {
      "cell_type": "markdown",
      "metadata": {
        "id": "dkhJJ3LhtMev",
        "colab_type": "text"
      },
      "source": [
        "# Parcours avec une boucle FOR"
      ]
    },
    {
      "cell_type": "code",
      "metadata": {
        "id": "OUYn3Og-tPin",
        "colab_type": "code",
        "colab": {
          "base_uri": "https://localhost:8080/",
          "height": 118
        },
        "outputId": "7d8b7e03-da31-43f1-d468-f82484297573"
      },
      "source": [
        "for k in d : \n",
        "    print('clé : ', k)\n",
        "    print('valeur : ', d[k])\n",
        "    print('---')"
      ],
      "execution_count": 14,
      "outputs": [
        {
          "output_type": "stream",
          "text": [
            "clé :  un\n",
            "valeur :  1.0\n",
            "---\n",
            "clé :  deux\n",
            "valeur :  2\n",
            "---\n"
          ],
          "name": "stdout"
        }
      ]
    }
  ]
}