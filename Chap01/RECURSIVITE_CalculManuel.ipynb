{
  "nbformat": 4,
  "nbformat_minor": 0,
  "metadata": {
    "colab": {
      "name": "01-RECURSIVITE-CalculManuel.ipynb",
      "provenance": [],
      "collapsed_sections": [],
      "authorship_tag": "ABX9TyOuDdhfyIKe4aRNUTSz37Np",
      "include_colab_link": true
    },
    "kernelspec": {
      "name": "python3",
      "display_name": "Python 3"
    }
  },
  "cells": [
    {
      "cell_type": "markdown",
      "metadata": {
        "id": "view-in-github",
        "colab_type": "text"
      },
      "source": [
        "<a href=\"https://colab.research.google.com/github/thfruchart/tnsi-2020/blob/master/Chap01/RECURSIVITE_CalculManuel.ipynb\" target=\"_parent\"><img src=\"https://colab.research.google.com/assets/colab-badge.svg\" alt=\"Open In Colab\"/></a>"
      ]
    },
    {
      "cell_type": "markdown",
      "metadata": {
        "id": "YR0bvGqqcsvH",
        "colab_type": "text"
      },
      "source": [
        "## Calcul \"à la main\""
      ]
    },
    {
      "cell_type": "markdown",
      "metadata": {
        "id": "e0uvnKUNc1s7",
        "colab_type": "text"
      },
      "source": [
        "On donne le code qui définit deux fonctions récursives :  \n",
        "`compteur1`  et `compteur2`"
      ]
    },
    {
      "cell_type": "code",
      "metadata": {
        "id": "IQ2YD582ce9Q",
        "colab_type": "code",
        "colab": {}
      },
      "source": [
        "def compteur1(n):\n",
        "    if n>=0:\n",
        "        print(n)\n",
        "        compteur1(n-1)"
      ],
      "execution_count": 2,
      "outputs": []
    },
    {
      "cell_type": "code",
      "metadata": {
        "id": "-JpkJ06hdJtE",
        "colab_type": "code",
        "colab": {}
      },
      "source": [
        "def compteur2(n):\n",
        "    if n>=0:\n",
        "        compteur2(n-1)\n",
        "        print(n)"
      ],
      "execution_count": 3,
      "outputs": []
    },
    {
      "cell_type": "markdown",
      "metadata": {
        "id": "mBhYA8bHdO17",
        "colab_type": "text"
      },
      "source": [
        "Déterminer l'affichage obtenu par chacune des commandes : \n",
        "- compteur1(4)\n",
        "- compteur2(4)"
      ]
    },
    {
      "cell_type": "code",
      "metadata": {
        "id": "tRGJtHhBjQis",
        "colab_type": "code",
        "colab": {
          "base_uri": "https://localhost:8080/",
          "height": 102
        },
        "outputId": "f77e3df3-bb7c-4f6d-e8cf-860073d26326"
      },
      "source": [
        "compteur1(4)"
      ],
      "execution_count": 4,
      "outputs": [
        {
          "output_type": "stream",
          "text": [
            "4\n",
            "3\n",
            "2\n",
            "1\n",
            "0\n"
          ],
          "name": "stdout"
        }
      ]
    },
    {
      "cell_type": "code",
      "metadata": {
        "id": "1-D3Y6RJjbQT",
        "colab_type": "code",
        "colab": {
          "base_uri": "https://localhost:8080/",
          "height": 102
        },
        "outputId": "ea2f54e6-74d2-48c8-aca2-2a07ea384384"
      },
      "source": [
        "compteur2(4)"
      ],
      "execution_count": 5,
      "outputs": [
        {
          "output_type": "stream",
          "text": [
            "0\n",
            "1\n",
            "2\n",
            "3\n",
            "4\n"
          ],
          "name": "stdout"
        }
      ]
    }
  ]
}