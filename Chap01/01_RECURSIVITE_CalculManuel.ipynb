{
  "nbformat": 4,
  "nbformat_minor": 0,
  "metadata": {
    "colab": {
      "name": "01-RECURSIVITE-CalculManuel.ipynb",
      "provenance": [],
      "collapsed_sections": [],
      "authorship_tag": "ABX9TyMWvNQhznyTtfALsOIRhOsh",
      "include_colab_link": true
    },
    "kernelspec": {
      "name": "python3",
      "display_name": "Python 3"
    }
  },
  "cells": [
    {
      "cell_type": "markdown",
      "metadata": {
        "id": "view-in-github",
        "colab_type": "text"
      },
      "source": [
        "<a href=\"https://colab.research.google.com/github/thfruchart/tnsi-2020/blob/master/01_RECURSIVITE_CalculManuel.ipynb\" target=\"_parent\"><img src=\"https://colab.research.google.com/assets/colab-badge.svg\" alt=\"Open In Colab\"/></a>"
      ]
    },
    {
      "cell_type": "markdown",
      "metadata": {
        "id": "YR0bvGqqcsvH",
        "colab_type": "text"
      },
      "source": [
        "## Calcul \"à la main\""
      ]
    },
    {
      "cell_type": "markdown",
      "metadata": {
        "id": "e0uvnKUNc1s7",
        "colab_type": "text"
      },
      "source": [
        "On donne le code qui définit deux fonctions récursives :  \n",
        "`compteur1`  et `compteur2`"
      ]
    },
    {
      "cell_type": "code",
      "metadata": {
        "id": "IQ2YD582ce9Q",
        "colab_type": "code",
        "colab": {}
      },
      "source": [
        "def compteur1(n):\n",
        "    if n>=0:\n",
        "        print(n)\n",
        "        compteur1(n-1)"
      ],
      "execution_count": 1,
      "outputs": []
    },
    {
      "cell_type": "code",
      "metadata": {
        "id": "-JpkJ06hdJtE",
        "colab_type": "code",
        "colab": {}
      },
      "source": [
        "def compteur2(n):\n",
        "    if n>=0:\n",
        "        compteur2(n-1)\n",
        "        print(n)"
      ],
      "execution_count": 5,
      "outputs": []
    },
    {
      "cell_type": "markdown",
      "metadata": {
        "id": "mBhYA8bHdO17",
        "colab_type": "text"
      },
      "source": [
        "Déterminer l'affichage obtenu par chacune des commandes : \n",
        "- compteur1(4)\n",
        "- compteur2(4)"
      ]
    }
  ]
}