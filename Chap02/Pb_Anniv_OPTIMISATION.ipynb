{
  "nbformat": 4,
  "nbformat_minor": 0,
  "metadata": {
    "colab": {
      "name": "02-Pb-Anniv-OPTIMISATION.ipynb",
      "provenance": [],
      "collapsed_sections": [],
      "authorship_tag": "ABX9TyP755qN+O7TogGldHNdYWse",
      "include_colab_link": true
    },
    "kernelspec": {
      "name": "python3",
      "display_name": "Python 3"
    }
  },
  "cells": [
    {
      "cell_type": "markdown",
      "metadata": {
        "id": "view-in-github",
        "colab_type": "text"
      },
      "source": [
        "<a href=\"https://colab.research.google.com/github/thfruchart/tnsi-2020/blob/master/Chap02/Pb_Anniv_OPTIMISATION.ipynb\" target=\"_parent\"><img src=\"https://colab.research.google.com/assets/colab-badge.svg\" alt=\"Open In Colab\"/></a>"
      ]
    },
    {
      "cell_type": "markdown",
      "metadata": {
        "id": "DUzs00yn6IpZ",
        "colab_type": "text"
      },
      "source": [
        "# Paradoxe des anniversaires : ÉLÉMENTS DE CORRECTION\n",
        "\n"
      ]
    },
    {
      "cell_type": "markdown",
      "metadata": {
        "id": "mLNF8x-i6MB-",
        "colab_type": "text"
      },
      "source": [
        "Il y a au maximum 366 jours dans une année (bissextile).\n",
        "\n",
        "Dans un groupe de $n$ personnes, la probabilité que deux personnes aient la même date anniversaire dépasse $1/2$ dès que $n \\geq 23$.\n",
        "\n",
        "On se propose de vérifier ce \"paradoxe\" en utilisant des **listes d'entiers**."
      ]
    },
    {
      "cell_type": "markdown",
      "metadata": {
        "id": "gFDAXE1d6uYX",
        "colab_type": "text"
      },
      "source": [
        "## générer une liste aléatoire de n entiers compris entre 1 et 366\n",
        "\n",
        "On rappelle que le module random contient une méthode randint(a,b) qui retourne un nombre entier aléatoire compris entre a et b.\n",
        "\n",
        "Compléter le code de la fonction genere_list(n) ci-dessous"
      ]
    },
    {
      "cell_type": "code",
      "metadata": {
        "id": "TadknNfH6BbG",
        "colab_type": "code",
        "colab": {}
      },
      "source": [
        "from random import randint\n",
        "\n",
        "def genere_list(n):\n",
        "    ''' retourne un tableau de longeur n, \n",
        "    contenant des entiers choisis aléatoirement entre 1 et 366 inclus'''\n",
        "    t = [0] * n  # tableau de longueur n, dont les cellules sont initialisées à 0\n",
        "    for i in range (n):\n",
        "        t[i] = [randint(1,366) for i in range(n)]\n",
        "\n",
        "    return t\n"
      ],
      "execution_count": 2,
      "outputs": []
    },
    {
      "cell_type": "code",
      "metadata": {
        "id": "3qeN63027BLm",
        "colab_type": "code",
        "colab": {}
      },
      "source": [
        "from random import randint\n",
        "\n",
        "def genere_list(n):\n",
        "    ''' retourne un tableau de longeur n, \n",
        "    contenant des entiers choisis aléatoirement entre 1 et 366 inclus'''\n",
        "    return [randint(1,366) for i in range(n)]\n"
      ],
      "execution_count": 3,
      "outputs": []
    },
    {
      "cell_type": "code",
      "metadata": {
        "id": "IN-T_OBMg-QA",
        "colab_type": "code",
        "colab": {
          "base_uri": "https://localhost:8080/",
          "height": 34
        },
        "outputId": "430c01f5-3a1d-49ce-f002-58b510e7a0be"
      },
      "source": [
        "genere_list(5)"
      ],
      "execution_count": 4,
      "outputs": [
        {
          "output_type": "execute_result",
          "data": {
            "text/plain": [
              "[217, 237, 112, 206, 18]"
            ]
          },
          "metadata": {
            "tags": []
          },
          "execution_count": 4
        }
      ]
    },
    {
      "cell_type": "code",
      "metadata": {
        "id": "sOWmw93khA5I",
        "colab_type": "code",
        "colab": {
          "base_uri": "https://localhost:8080/",
          "height": 34
        },
        "outputId": "a7bb2c73-2e2e-4f18-cb98-081fc1d73b77"
      },
      "source": [
        "genere_list(5)"
      ],
      "execution_count": 5,
      "outputs": [
        {
          "output_type": "execute_result",
          "data": {
            "text/plain": [
              "[51, 265, 356, 7, 267]"
            ]
          },
          "metadata": {
            "tags": []
          },
          "execution_count": 5
        }
      ]
    },
    {
      "cell_type": "code",
      "metadata": {
        "id": "rZ_FTZKPhC9-",
        "colab_type": "code",
        "colab": {}
      },
      "source": [
        "def detecte_doublon(t):\n",
        "    '''t est un tableau d'entiers compris entre 1 et 366\n",
        "\n",
        "    la fonction renvoie True si le tableau t contient deux fois la même valeur, \n",
        "    et False si t ne contient que des valeurs distinctes '''\n",
        "    for i in range(1, len(t)):\n",
        "        for j in range(i):\n",
        "            if t[i] == t[j]:\n",
        "                return True\n",
        "    return False\n"
      ],
      "execution_count": 6,
      "outputs": []
    },
    {
      "cell_type": "code",
      "metadata": {
        "id": "amDq8JJZhw4T",
        "colab_type": "code",
        "colab": {
          "base_uri": "https://localhost:8080/",
          "height": 34
        },
        "outputId": "f30f6ab8-8c3b-4f37-811b-f4157951a083"
      },
      "source": [
        "detecte_doublon([0,1,2,3,4,0])"
      ],
      "execution_count": 7,
      "outputs": [
        {
          "output_type": "execute_result",
          "data": {
            "text/plain": [
              "True"
            ]
          },
          "metadata": {
            "tags": []
          },
          "execution_count": 7
        }
      ]
    },
    {
      "cell_type": "code",
      "metadata": {
        "id": "LDEljNvKh0tS",
        "colab_type": "code",
        "colab": {
          "base_uri": "https://localhost:8080/",
          "height": 34
        },
        "outputId": "1f862098-edb9-4f1e-d858-ae494accc4bc"
      },
      "source": [
        "detecte_doublon([0,1,2,3,4,5,6])"
      ],
      "execution_count": 8,
      "outputs": [
        {
          "output_type": "execute_result",
          "data": {
            "text/plain": [
              "False"
            ]
          },
          "metadata": {
            "tags": []
          },
          "execution_count": 8
        }
      ]
    },
    {
      "cell_type": "code",
      "metadata": {
        "id": "W7jTCjRVh6EB",
        "colab_type": "code",
        "colab": {
          "base_uri": "https://localhost:8080/",
          "height": 34
        },
        "outputId": "11c47d3a-766c-4a28-a5b8-878daacdc65d"
      },
      "source": [
        "detecte_doublon([0,1,2,3,4,5,6,6])"
      ],
      "execution_count": 9,
      "outputs": [
        {
          "output_type": "execute_result",
          "data": {
            "text/plain": [
              "True"
            ]
          },
          "metadata": {
            "tags": []
          },
          "execution_count": 9
        }
      ]
    },
    {
      "cell_type": "code",
      "metadata": {
        "id": "9TJVm4-Vh-GY",
        "colab_type": "code",
        "colab": {
          "base_uri": "https://localhost:8080/",
          "height": 34
        },
        "outputId": "f722b1fb-1080-4c78-8b72-e3fa151ea9c8"
      },
      "source": [
        "from time import perf_counter\n",
        "t_test = [i for i in range(1,367)]\n",
        "\n",
        "start = perf_counter()\n",
        "detecte_doublon(t_test)\n",
        "end = perf_counter()\n",
        "print('test effectué en', (end-start)*1000,'ms' )"
      ],
      "execution_count": 10,
      "outputs": [
        {
          "output_type": "stream",
          "text": [
            "test effectué en 4.171939000002567 ms\n"
          ],
          "name": "stdout"
        }
      ]
    },
    {
      "cell_type": "markdown",
      "metadata": {
        "id": "uH24tMzxuMA_",
        "colab_type": "text"
      },
      "source": [
        "# Estimation de la probabilité de doublon lorsque n=23"
      ]
    },
    {
      "cell_type": "code",
      "metadata": {
        "id": "I4_qRRL0uaXG",
        "colab_type": "code",
        "colab": {}
      },
      "source": [
        "def evalue_proba(n, taille):\n",
        "    '''n : nombre de valeurs contenues dans une liste de l'échantillon\n",
        "    taille : nombre total de liste générées dans l'échantillon\n",
        "    \n",
        "    La fonction retourne la fréquence des doublons dans un échantillon de taille listes contenant n valeurs chacunes '''\n",
        "    nb_doublons = 0\n",
        "    for i in range(taille):\n",
        "        t = genere_list(n)\n",
        "        if detecte_doublon(t):\n",
        "            nb_doublons += 1\n",
        "    return nb_doublons / taille\n"
      ],
      "execution_count": 11,
      "outputs": []
    },
    {
      "cell_type": "code",
      "metadata": {
        "id": "iyB6RS5WvMND",
        "colab_type": "code",
        "colab": {
          "base_uri": "https://localhost:8080/",
          "height": 34
        },
        "outputId": "8be1c22b-3da2-4a12-a31f-903c4a6ec9a3"
      },
      "source": [
        "evalue_proba(23,1000)"
      ],
      "execution_count": 12,
      "outputs": [
        {
          "output_type": "execute_result",
          "data": {
            "text/plain": [
              "0.512"
            ]
          },
          "metadata": {
            "tags": []
          },
          "execution_count": 12
        }
      ]
    },
    {
      "cell_type": "markdown",
      "metadata": {
        "id": "H3407nZ2jBJ1",
        "colab_type": "text"
      },
      "source": [
        "# Trier le tableau avant de tester les doublons"
      ]
    },
    {
      "cell_type": "code",
      "metadata": {
        "id": "KstdsD-Hjmli",
        "colab_type": "code",
        "colab": {}
      },
      "source": [
        "def detecte_doublon_tri(tab):\n",
        "    '''t est un tableau d'entiers compris entre 1 et 366\n",
        "\n",
        "    la fonction renvoie True si le tableau t contient deux fois la même valeur, \n",
        "    et False si t ne contient que des valeurs distinctes '''\n",
        "    t = sorted(tab)\n",
        "    for i in range(len(t)-1):\n",
        "        if t[i]==t[i+1]:\n",
        "            return True\n",
        "    return False\n",
        "\n"
      ],
      "execution_count": 13,
      "outputs": []
    },
    {
      "cell_type": "code",
      "metadata": {
        "id": "G4HugL50k0f7",
        "colab_type": "code",
        "colab": {
          "base_uri": "https://localhost:8080/",
          "height": 34
        },
        "outputId": "0fed9284-b406-405d-b7c0-2d7ceb04832f"
      },
      "source": [
        "from random import shuffle\n",
        "t = [1,2,3,4]\n",
        "shuffle(t)\n",
        "t"
      ],
      "execution_count": 14,
      "outputs": [
        {
          "output_type": "execute_result",
          "data": {
            "text/plain": [
              "[2, 4, 1, 3]"
            ]
          },
          "metadata": {
            "tags": []
          },
          "execution_count": 14
        }
      ]
    },
    {
      "cell_type": "code",
      "metadata": {
        "id": "IcQp2_Jrj6qo",
        "colab_type": "code",
        "colab": {
          "base_uri": "https://localhost:8080/",
          "height": 34
        },
        "outputId": "1073e172-356c-4c9c-93b6-7244b7f9827c"
      },
      "source": [
        "from time import perf_counter\n",
        "from random import shuffle\n",
        "\n",
        "t_test =  [i for i in range(1,367)]\n",
        "shuffle(t_test)\n",
        "\n",
        "start = perf_counter() #début du chrono\n",
        "detecte_doublon_tri(t_test)\n",
        "end = perf_counter() #fin du chrono\n",
        "print('test effectué en', (end-start)*1000,'ms' )"
      ],
      "execution_count": 15,
      "outputs": [
        {
          "output_type": "stream",
          "text": [
            "test effectué en 0.41603000001089185 ms\n"
          ],
          "name": "stdout"
        }
      ]
    },
    {
      "cell_type": "markdown",
      "metadata": {
        "id": "OkR86CVM1tc9",
        "colab_type": "text"
      },
      "source": [
        "# Améliorer encore l'efficacité de l'algorithme de recherche de doublon ?\n",
        "\n",
        "Ordre de grandeur de la complexité des algorithmes précédents :\n",
        "* detecte_doublon : $ O(n^2) $ (quadratique)\n",
        "* detecte_doublon_tri : $O(n log(n) )$ (à cause du tri)\n",
        "\n",
        "On peut optimiser davantage, il faudrait écrire un algorithme de recherche de doublons qui :\n",
        "* ne parcourt qu'une seule fois le tableau\n",
        "* effectue, pour chaque valeur du tableau, des opérations en temps constant"
      ]
    },
    {
      "cell_type": "markdown",
      "metadata": {
        "id": "sHyG80bPl4Y6",
        "colab_type": "text"
      },
      "source": [
        "# En \"cochant des cases\" dans une liste\n",
        "\n"
      ]
    },
    {
      "cell_type": "markdown",
      "metadata": {
        "id": "tUQFAz_JtS_J",
        "colab_type": "text"
      },
      "source": [
        "Compléter le code manquant à la place des `###`\n",
        "\n",
        "\n"
      ]
    },
    {
      "cell_type": "code",
      "metadata": {
        "id": "AXSOFHYEl9Mg",
        "colab_type": "code",
        "colab": {}
      },
      "source": [
        "def detecte_doublon_coche_liste(t):\n",
        "    '''t est un tableau d'entiers compris entre 1 et 366\n",
        "\n",
        "    la fonction renvoie True si le tableau t contient deux fois la même valeur, \n",
        "    et False si t ne contient que des valeurs distinctes '''\n",
        "    aux = [False for i in range(367)]\n",
        "    for v in t: \n",
        "        if aux[v]: \n",
        "            return True\n",
        "        else :\n",
        "            aux[v] = True\n",
        "    return False\n"
      ],
      "execution_count": 1,
      "outputs": []
    },
    {
      "cell_type": "code",
      "metadata": {
        "id": "x7w41I6DmuNB",
        "colab_type": "code",
        "colab": {
          "base_uri": "https://localhost:8080/",
          "height": 34
        },
        "outputId": "5540d370-f9c1-46e3-e382-1061c2706f3d"
      },
      "source": [
        "detecte_doublon_coche_liste([0,1,2,3,4,0])"
      ],
      "execution_count": 16,
      "outputs": [
        {
          "output_type": "execute_result",
          "data": {
            "text/plain": [
              "True"
            ]
          },
          "metadata": {
            "tags": []
          },
          "execution_count": 16
        }
      ]
    },
    {
      "cell_type": "code",
      "metadata": {
        "id": "jYMbHy0mm2wy",
        "colab_type": "code",
        "colab": {
          "base_uri": "https://localhost:8080/",
          "height": 34
        },
        "outputId": "9baaed3f-5498-40da-d3c9-3c35e963fc89"
      },
      "source": [
        "detecte_doublon_coche_liste([0,1,2,3,4,5])"
      ],
      "execution_count": 17,
      "outputs": [
        {
          "output_type": "execute_result",
          "data": {
            "text/plain": [
              "False"
            ]
          },
          "metadata": {
            "tags": []
          },
          "execution_count": 17
        }
      ]
    },
    {
      "cell_type": "code",
      "metadata": {
        "id": "tD1vl7TAm48J",
        "colab_type": "code",
        "colab": {
          "base_uri": "https://localhost:8080/",
          "height": 34
        },
        "outputId": "fd2b18cf-a8c4-4e7c-9b23-5cc780d2555e"
      },
      "source": [
        "detecte_doublon_coche_liste([0,1,2,3,4,5,6,6])"
      ],
      "execution_count": 18,
      "outputs": [
        {
          "output_type": "execute_result",
          "data": {
            "text/plain": [
              "True"
            ]
          },
          "metadata": {
            "tags": []
          },
          "execution_count": 18
        }
      ]
    },
    {
      "cell_type": "code",
      "metadata": {
        "id": "vDF8ljhZnBdP",
        "colab_type": "code",
        "colab": {
          "base_uri": "https://localhost:8080/",
          "height": 35
        },
        "outputId": "9c3f3e59-83ab-454a-8b5e-4395ed59e35e"
      },
      "source": [
        "from time import perf_counter\n",
        "from random import shuffle\n",
        "t_test =  [i for i in range(1,367)]\n",
        "shuffle(t_test)\n",
        "\n",
        "start = perf_counter() #début du chrono\n",
        "detecte_doublon_coche_liste(t_test)\n",
        "end = perf_counter() #fin du chrono\n",
        "\n",
        "print('test effectué en', (end-start)*1000,'ms' )"
      ],
      "execution_count": 19,
      "outputs": [
        {
          "output_type": "stream",
          "text": [
            "test effectué en 0.06257600000481034 ms\n"
          ],
          "name": "stdout"
        }
      ]
    },
    {
      "cell_type": "markdown",
      "metadata": {
        "id": "A0FQIfcHnuBH",
        "colab_type": "text"
      },
      "source": [
        "# En \"cochant des cases\" dans un dictionnaire"
      ]
    },
    {
      "cell_type": "markdown",
      "metadata": {
        "id": "LFk_iuQQtdD8",
        "colab_type": "text"
      },
      "source": [
        "Compléter le code manquant à la place des `###`"
      ]
    },
    {
      "cell_type": "code",
      "metadata": {
        "id": "RXg8yCM4nwxI",
        "colab_type": "code",
        "colab": {}
      },
      "source": [
        "def detecte_doublon_coche_dictionnaire(t):\n",
        "    '''t est un tableau d'entiers compris entre 1 et 366\n",
        "\n",
        "    la fonction renvoie True si le tableau t contient deux fois la même valeur, \n",
        "    et False si t ne contient que des valeurs distinctes '''\n",
        "    d = {} #dictionnaire vide\n",
        "    for v in t: \n",
        "        if v in d : \n",
        "            return True\n",
        "        else :\n",
        "            d[v] = True \n",
        "    return False"
      ],
      "execution_count": 20,
      "outputs": []
    },
    {
      "cell_type": "code",
      "metadata": {
        "id": "ckL-snnuoKdf",
        "colab_type": "code",
        "colab": {
          "base_uri": "https://localhost:8080/",
          "height": 35
        },
        "outputId": "3e1092d1-ff8c-494d-8e84-e0536df3bb87"
      },
      "source": [
        "detecte_doublon_coche_dictionnaire([0,1,2,3,4,5,0])"
      ],
      "execution_count": 21,
      "outputs": [
        {
          "output_type": "execute_result",
          "data": {
            "text/plain": [
              "True"
            ]
          },
          "metadata": {
            "tags": []
          },
          "execution_count": 21
        }
      ]
    },
    {
      "cell_type": "code",
      "metadata": {
        "id": "xUXHu6RroOzt",
        "colab_type": "code",
        "colab": {
          "base_uri": "https://localhost:8080/",
          "height": 35
        },
        "outputId": "8a0b5a38-1be0-4b85-e1c1-7ed8e091a2b1"
      },
      "source": [
        "detecte_doublon_coche_dictionnaire([0,1,2,3,4,5,6])"
      ],
      "execution_count": 22,
      "outputs": [
        {
          "output_type": "execute_result",
          "data": {
            "text/plain": [
              "False"
            ]
          },
          "metadata": {
            "tags": []
          },
          "execution_count": 22
        }
      ]
    },
    {
      "cell_type": "code",
      "metadata": {
        "id": "_rNjCkSsoQrT",
        "colab_type": "code",
        "colab": {
          "base_uri": "https://localhost:8080/",
          "height": 35
        },
        "outputId": "562c5a05-cb09-4ea6-c6e9-acbb908f1bb5"
      },
      "source": [
        "detecte_doublon_coche_dictionnaire([0,1,2,3,4,5,6,6])"
      ],
      "execution_count": 23,
      "outputs": [
        {
          "output_type": "execute_result",
          "data": {
            "text/plain": [
              "True"
            ]
          },
          "metadata": {
            "tags": []
          },
          "execution_count": 23
        }
      ]
    },
    {
      "cell_type": "code",
      "metadata": {
        "id": "du1tBMfsoWN9",
        "colab_type": "code",
        "colab": {
          "base_uri": "https://localhost:8080/",
          "height": 35
        },
        "outputId": "918eaf45-c6ef-409c-b2d7-393eee75a9e9"
      },
      "source": [
        "from time import perf_counter\n",
        "from random import shuffle\n",
        "t_test =  [i for i in range(1,367)]\n",
        "shuffle(t_test)\n",
        "\n",
        "start = perf_counter() #début du chrono\n",
        "detecte_doublon_coche_dictionnaire(t_test)\n",
        "end = perf_counter() #fin du chrono\n",
        "\n",
        "print('test effectué en', (end-start)*1000,'ms' )"
      ],
      "execution_count": 24,
      "outputs": [
        {
          "output_type": "stream",
          "text": [
            "test effectué en 0.07843000003049383 ms\n"
          ],
          "name": "stdout"
        }
      ]
    },
    {
      "cell_type": "markdown",
      "metadata": {
        "id": "A16ffVWTpnsz",
        "colab_type": "text"
      },
      "source": [
        "# comparaisons entre les différentes fonctions qui détectent un doublon"
      ]
    },
    {
      "cell_type": "markdown",
      "metadata": {
        "id": "7lSOYo54qa1L",
        "colab_type": "text"
      },
      "source": [
        "Avec `%timeit`"
      ]
    },
    {
      "cell_type": "code",
      "metadata": {
        "id": "dgRgmMRMxDP7",
        "colab_type": "code",
        "colab": {
          "base_uri": "https://localhost:8080/",
          "height": 35
        },
        "outputId": "be4e415e-df60-4add-bcd5-1eae4d029c64"
      },
      "source": [
        "t_test =  [i for i in range(1,367)]\n",
        "shuffle(t_test)\n",
        "\n",
        "%timeit(detecte_doublon(t_test))"
      ],
      "execution_count": 25,
      "outputs": [
        {
          "output_type": "stream",
          "text": [
            "100 loops, best of 3: 3.97 ms per loop\n"
          ],
          "name": "stdout"
        }
      ]
    },
    {
      "cell_type": "code",
      "metadata": {
        "id": "J7uEQlS5xRG4",
        "colab_type": "code",
        "colab": {
          "base_uri": "https://localhost:8080/",
          "height": 35
        },
        "outputId": "d27f68df-f849-4630-dc41-b9f15f171229"
      },
      "source": [
        "%timeit(detecte_doublon_tri(t_test))"
      ],
      "execution_count": 26,
      "outputs": [
        {
          "output_type": "stream",
          "text": [
            "10000 loops, best of 3: 63.8 µs per loop\n"
          ],
          "name": "stdout"
        }
      ]
    },
    {
      "cell_type": "code",
      "metadata": {
        "id": "odW3-FnZqKe5",
        "colab_type": "code",
        "colab": {
          "base_uri": "https://localhost:8080/",
          "height": 35
        },
        "outputId": "e8048e23-1f96-4092-fc41-60876660eabf"
      },
      "source": [
        "%timeit(detecte_doublon_coche_liste(t_test))"
      ],
      "execution_count": 27,
      "outputs": [
        {
          "output_type": "stream",
          "text": [
            "10000 loops, best of 3: 29.4 µs per loop\n"
          ],
          "name": "stdout"
        }
      ]
    },
    {
      "cell_type": "code",
      "metadata": {
        "id": "DoekjHxQp5yl",
        "colab_type": "code",
        "colab": {
          "base_uri": "https://localhost:8080/",
          "height": 35
        },
        "outputId": "d22b7363-dded-46fd-bef8-f26c40f17b68"
      },
      "source": [
        "%timeit(detecte_doublon_coche_dictionnaire(t_test))"
      ],
      "execution_count": 28,
      "outputs": [
        {
          "output_type": "stream",
          "text": [
            "10000 loops, best of 3: 28.9 µs per loop\n"
          ],
          "name": "stdout"
        }
      ]
    }
  ]
}