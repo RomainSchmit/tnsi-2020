{
  "nbformat": 4,
  "nbformat_minor": 0,
  "metadata": {
    "colab": {
      "name": "02Modules-Interface.ipynb",
      "provenance": [],
      "collapsed_sections": [
        "sQE_l7T4xZuo",
        "3JUzAjEWs_5C",
        "tIeAqmArtfnK",
        "gxZbGt7Utxef",
        "IhA-ScdN6mr7",
        "MCZjiBh2xqSM"
      ],
      "authorship_tag": "ABX9TyNgte62l7PGRRYFYCouh0pi",
      "include_colab_link": true
    },
    "kernelspec": {
      "name": "python3",
      "display_name": "Python 3"
    }
  },
  "cells": [
    {
      "cell_type": "markdown",
      "metadata": {
        "id": "view-in-github",
        "colab_type": "text"
      },
      "source": [
        "<a href=\"https://colab.research.google.com/github/thfruchart/tnsi-2020/blob/master/Chap02/Modules_Interface.ipynb\" target=\"_parent\"><img src=\"https://colab.research.google.com/assets/colab-badge.svg\" alt=\"Open In Colab\"/></a>"
      ]
    },
    {
      "cell_type": "markdown",
      "metadata": {
        "id": "dB23K51E6j18",
        "colab_type": "text"
      },
      "source": [
        "# Module"
      ]
    },
    {
      "cell_type": "markdown",
      "metadata": {
        "id": "q9tHOqY86p9X",
        "colab_type": "text"
      },
      "source": [
        "Lorsque certaines portions de code sont réutilisables dans plusieurs programmes, on souhaite éviter de \"copier-coller\" tout le code à chaque fois. \n",
        "\n",
        "Il est préférable de \"découper\" son code entre **plusieurs fichiers**. Un fichier contenant du code utilisé par des programmes contenus dans d'autres fichier est un **module**. \n",
        "\n",
        "Un même programme peut donc dépendre de plusieurs modules : en pratique, il est conseillé de placer tous les fichiers contenant modules et programmes dans le même répertoire. "
      ]
    },
    {
      "cell_type": "markdown",
      "metadata": {
        "id": "R7DzdkS17P91",
        "colab_type": "text"
      },
      "source": [
        "#Trois exemples possibles pour un module `ensemble`"
      ]
    },
    {
      "cell_type": "markdown",
      "metadata": {
        "id": "sQE_l7T4xZuo",
        "colab_type": "text"
      },
      "source": [
        "# Exemple 1"
      ]
    },
    {
      "cell_type": "markdown",
      "metadata": {
        "id": "FWX7xxe7rwsf",
        "colab_type": "text"
      },
      "source": [
        "###Contenu du module ensemble1.py"
      ]
    },
    {
      "cell_type": "code",
      "metadata": {
        "id": "oxv92K_Y6dSR",
        "colab_type": "code",
        "colab": {}
      },
      "source": [
        "def cree_ensemble():\n",
        "    ''' crée un ensemble vide, pouvant contenir des entiers entre 0 et 366\n",
        "    implémenté sous la forme d'un tableau de booléens'''\n",
        "    return [False for i in range(367)]\n",
        "\n",
        "def appartient(v,s):\n",
        "    ''' teste si une valeur v (de 0 à 366) appartient à l'ensemble s'''\n",
        "    return s[v]\n",
        "\n",
        "def ajoute(v,s):\n",
        "    ''' ajoute la valeur v (de0 à 366) à l'ensemble s'''\n",
        "    s[v]=True"
      ],
      "execution_count": null,
      "outputs": []
    },
    {
      "cell_type": "markdown",
      "metadata": {
        "id": "mIMemKbwr16S",
        "colab_type": "text"
      },
      "source": [
        "### Programme utilisant ce module"
      ]
    },
    {
      "cell_type": "code",
      "metadata": {
        "id": "m7TMm8C2r40n",
        "colab_type": "code",
        "colab": {}
      },
      "source": [
        "from ensemble1 import *\n",
        "\n",
        "def detecte_doublon_ensemble(t):\n",
        "    '''t est un tableau d'entiers compris entre 1 et 366\n",
        "\n",
        "    la fonction renvoie True si le tableau t contient deux fois la même valeur, \n",
        "    et False si t ne contient que des valeurs distinctes '''\n",
        "    s = cree_ensemble() #ensemble vide\n",
        "    # parcours du tableau \n",
        "    for v in t: \n",
        "        if appartient(v, s) : \n",
        "            return True\n",
        "        else :\n",
        "            ajoute(v, s)\n",
        "    return False"
      ],
      "execution_count": null,
      "outputs": []
    },
    {
      "cell_type": "markdown",
      "metadata": {
        "id": "3JUzAjEWs_5C",
        "colab_type": "text"
      },
      "source": [
        "# Exemple 2"
      ]
    },
    {
      "cell_type": "markdown",
      "metadata": {
        "id": "oeH-2HKVtEji",
        "colab_type": "text"
      },
      "source": [
        "### contenu du module ensemble2.py\n"
      ]
    },
    {
      "cell_type": "code",
      "metadata": {
        "id": "a20jH15itOm_",
        "colab_type": "code",
        "colab": {}
      },
      "source": [
        "def cree_ensemble():\n",
        "    ''' crée un ensemble vide, pouvant contenir des entiers ou des textes\n",
        "    implémenté sous la forme d'un dictionnaire de booléens'''\n",
        "    return {}\n",
        "\n",
        "def appartient(v,s):\n",
        "    ''' teste si une valeur v appartient à l'ensemble s'''\n",
        "    return v in s\n",
        "\n",
        "def ajoute(v,s):\n",
        "    ''' ajoute la valeur v à l'ensemble s'''\n",
        "    s[v]=True\n"
      ],
      "execution_count": null,
      "outputs": []
    },
    {
      "cell_type": "markdown",
      "metadata": {
        "id": "WO1lIL9TtPim",
        "colab_type": "text"
      },
      "source": [
        "### Programme utilisant ce module"
      ]
    },
    {
      "cell_type": "code",
      "metadata": {
        "id": "MBUditmatT9P",
        "colab_type": "code",
        "colab": {}
      },
      "source": [
        "from ensemble2 import *\n",
        "\n",
        "def detecte_doublon_ensemble(t):\n",
        "    '''t est un tableau d'entiers compris entre 1 et 366\n",
        "\n",
        "    la fonction renvoie True si le tableau t contient deux fois la même valeur, \n",
        "    et False si t ne contient que des valeurs distinctes '''\n",
        "    s = cree_ensemble() #ensemble vide\n",
        "    # parcours du tableau \n",
        "    for v in t: \n",
        "        if appartient(v, s) : \n",
        "            return True\n",
        "        else :\n",
        "            ajoute(v, s)\n",
        "    return False"
      ],
      "execution_count": null,
      "outputs": []
    },
    {
      "cell_type": "markdown",
      "metadata": {
        "id": "tIeAqmArtfnK",
        "colab_type": "text"
      },
      "source": [
        "# Exemple 3"
      ]
    },
    {
      "cell_type": "markdown",
      "metadata": {
        "id": "htgU_sautg6x",
        "colab_type": "text"
      },
      "source": [
        "### contenu du module ensemble3.py"
      ]
    },
    {
      "cell_type": "code",
      "metadata": {
        "id": "LsS-anI2tmCW",
        "colab_type": "code",
        "colab": {}
      },
      "source": [
        "def cree_ensemble():\n",
        "    ''' crée un ensemble vide, pouvant contenir des entiers \n",
        "    implémenté sous la forme d'une liste de listes'''\n",
        "    return [ [] for i in range(23) ]\n",
        "\n",
        "def appartient(v,s):\n",
        "    ''' teste si une valeur v appartient à l'ensemble s'''\n",
        "    indice = v%23\n",
        "    return v in s[indice]\n",
        "\n",
        "def ajoute(v,s):\n",
        "    ''' ajoute la valeur v à l'ensemble s'''\n",
        "    indice = v%23\n",
        "    s[indice].append(v)"
      ],
      "execution_count": null,
      "outputs": []
    },
    {
      "cell_type": "markdown",
      "metadata": {
        "colab_type": "text",
        "id": "DFLBrRIutt6y"
      },
      "source": [
        "### Programme utilisant ce module"
      ]
    },
    {
      "cell_type": "code",
      "metadata": {
        "colab_type": "code",
        "id": "IOCdpkXGtt60",
        "colab": {}
      },
      "source": [
        "from ensemble3 import *\n",
        "\n",
        "def detecte_doublon_ensemble(t):\n",
        "    '''t est un tableau d'entiers compris entre 1 et 366\n",
        "\n",
        "    la fonction renvoie True si le tableau t contient deux fois la même valeur, \n",
        "    et False si t ne contient que des valeurs distinctes '''\n",
        "    s = cree_ensemble() #ensemble vide\n",
        "    # parcours du tableau \n",
        "    for v in t: \n",
        "        if appartient(v, s) : \n",
        "            return True\n",
        "        else :\n",
        "            ajoute(v, s)\n",
        "    return False"
      ],
      "execution_count": null,
      "outputs": []
    },
    {
      "cell_type": "markdown",
      "metadata": {
        "id": "gxZbGt7Utxef",
        "colab_type": "text"
      },
      "source": [
        "#Avantages\n",
        "\n",
        "* le contenu du programme est toujours identique\n",
        "* seul le nom du module importé diffère\n",
        "\n"
      ]
    },
    {
      "cell_type": "markdown",
      "metadata": {
        "id": "I-Czib8Nt87r",
        "colab_type": "text"
      },
      "source": [
        "Cela signifie que le programme de détection de doublons peut s'appuyer initialement sur le module1. \n",
        "\n",
        "Lorsque l'efficacité du traitement des ensembles est améliorée (avec le module2 ou le module3) le code de la fonction `detecte_doublon` reste inchangé.\n",
        "\n",
        "Lorsque c'est possible, un projet gagne à être séparé en différents modules qui peuvent être programmés, testés, et améliorés indépendamment. "
      ]
    },
    {
      "cell_type": "markdown",
      "metadata": {
        "id": "IhA-ScdN6mr7",
        "colab_type": "text"
      },
      "source": [
        "# Interface et implémentation"
      ]
    },
    {
      "cell_type": "markdown",
      "metadata": {
        "id": "NMbRfgQ6uhPU",
        "colab_type": "text"
      },
      "source": [
        "Les trois modules ensemble1  ensemble2 ensemble3 réalisent la **même interface** :\n",
        "\n",
        "|fonction           |description|\n",
        "| :--------------- :| :-------- :|\n",
        "|  `cree_ensemble()` |  crée un ensemble vide de dates|\n",
        "| `appartient(v,s)`  | renvoie `True` si et seulement si la date `v` est dans l'ensemble `s` |\n",
        "| `ajoute(v,s)`      | ajoute la date `v` dans l'ensemble `s`|\n",
        "\n"
      ]
    },
    {
      "cell_type": "markdown",
      "metadata": {
        "id": "QDAR3L-2waXE",
        "colab_type": "text"
      },
      "source": [
        "Mais pour chacun de ces trois module, **l'implémentation** est différente : il s'agit de la manière particulière dont ces trois fonctions réalisent la description donnée dans l'interface.\n",
        "\n",
        "* le module  `ensemble1` utilise  des listes de booléens\n",
        "* le module  `ensemble2` utilise des dictionnaires de booléens\n",
        "* le module  `ensemble3` utilise des listes de listes\n",
        "\n",
        "En pratique, un utilisateur d'un module doit connaître son **interface** mais sans se soucier des détails de **l'implémentation**."
      ]
    },
    {
      "cell_type": "markdown",
      "metadata": {
        "id": "MCZjiBh2xqSM",
        "colab_type": "text"
      },
      "source": [
        "# Importation d'un module"
      ]
    },
    {
      "cell_type": "markdown",
      "metadata": {
        "id": "GPvOX3mlSyvP",
        "colab_type": "text"
      },
      "source": [
        "Avant d'utiliser certaines commandes d'un module, il faut d'abord **charger** ce module avec la commande `import`, souvent au début du programme. Cette commande peut s'utiliser de trois manières, détaillées ici avec l'exemple du module random. \n",
        "\n",
        "- `import random` charge le module random. Pour accéder à une fonction du module, comme **randint**, on doit \"préfixer\" cette fonction avec le nom du module chargé, ce qui donne par exemple : `random.randint(a,b)`\n",
        "- `from random import randint` charge le module random, et le nom de la fonction randint : dans ce cas, on peut utiliser directement la commande `randint(a,b)`\n",
        "- `from random import *` charge le module random, et tous les noms définis dans ce module. Cette solution est très simple, **à condition de ne charger qu'un seul module**. En effet, il est possible que deux modules différents possèdent de noms communs... ce serait alors source de confusion."
      ]
    },
    {
      "cell_type": "markdown",
      "metadata": {
        "id": "JLR6bO1PcK3z",
        "colab_type": "text"
      },
      "source": [
        "Parmi les cellules suivantes, quelles sont celles où l'importation et l'usage des fonction est cohérent ?\n",
        "\n",
        "Expliquer les erreurs éventuelles. "
      ]
    },
    {
      "cell_type": "code",
      "metadata": {
        "id": "w62YoqLnU-pl",
        "colab_type": "code",
        "colab": {}
      },
      "source": [
        "import random\n",
        "\n",
        "a = randint(1,6)"
      ],
      "execution_count": null,
      "outputs": []
    },
    {
      "cell_type": "markdown",
      "metadata": {
        "id": "s9o09CULolKj",
        "colab_type": "text"
      },
      "source": [
        "Il faudrait écrire `random`.randint(1,6)"
      ]
    },
    {
      "cell_type": "code",
      "metadata": {
        "id": "Cr5jCKKOUVAA",
        "colab_type": "code",
        "colab": {}
      },
      "source": [
        "import random\n",
        "\n",
        "a = random.randint(1,6)\n",
        "\n",
        "print(a)"
      ],
      "execution_count": null,
      "outputs": []
    },
    {
      "cell_type": "code",
      "metadata": {
        "id": "_YVcGUFSUgTZ",
        "colab_type": "code",
        "colab": {}
      },
      "source": [
        "from random import randint\n",
        "\n",
        "print(randint(1,6))\n",
        "\n",
        "print(uniform(1,10))"
      ],
      "execution_count": null,
      "outputs": []
    },
    {
      "cell_type": "markdown",
      "metadata": {
        "id": "9IpgupPToth9",
        "colab_type": "text"
      },
      "source": [
        "* randint est correctement utilisé\n",
        "* mais random() n'a pas été importé : on devrait écrire `random.random()`"
      ]
    },
    {
      "cell_type": "code",
      "metadata": {
        "id": "9pqmtznrUnz6",
        "colab_type": "code",
        "colab": {}
      },
      "source": [
        "from random import *\n",
        "\n",
        "b = uniform(1, 10)\n",
        "c = randint(10,20)\n",
        "\n",
        "print(b,c)"
      ],
      "execution_count": null,
      "outputs": []
    }
  ]
}