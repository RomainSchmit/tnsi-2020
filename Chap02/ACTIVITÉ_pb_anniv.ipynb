{
  "nbformat": 4,
  "nbformat_minor": 0,
  "metadata": {
    "colab": {
      "name": "02-ACTIVITÉ-pb-anniv.ipynb",
      "provenance": [],
      "collapsed_sections": [],
      "authorship_tag": "ABX9TyNKJHUCKpQpKkhlIU5wFZ4J",
      "include_colab_link": true
    },
    "kernelspec": {
      "name": "python3",
      "display_name": "Python 3"
    }
  },
  "cells": [
    {
      "cell_type": "markdown",
      "metadata": {
        "id": "view-in-github",
        "colab_type": "text"
      },
      "source": [
        "<a href=\"https://colab.research.google.com/github/thfruchart/tnsi-2020/blob/master/Chap02/ACTIVIT%C3%89_pb_anniv.ipynb\" target=\"_parent\"><img src=\"https://colab.research.google.com/assets/colab-badge.svg\" alt=\"Open In Colab\"/></a>"
      ]
    },
    {
      "cell_type": "markdown",
      "metadata": {
        "id": "DUzs00yn6IpZ",
        "colab_type": "text"
      },
      "source": [
        "# Paradoxe des anniversaires"
      ]
    },
    {
      "cell_type": "markdown",
      "metadata": {
        "id": "mLNF8x-i6MB-",
        "colab_type": "text"
      },
      "source": [
        "Il y a au maximum 366 jours dans une année (bissextile).\n",
        "\n",
        "Dans un groupe de $n$ personnes, la probabilité que deux personnes aient la même date anniversaire dépasse $1/2$ dès que $n \\geq 23$.\n",
        "\n",
        "On se propose de vérifier ce \"paradoxe\" en utilisant des **listes d'entiers**."
      ]
    },
    {
      "cell_type": "markdown",
      "metadata": {
        "id": "gFDAXE1d6uYX",
        "colab_type": "text"
      },
      "source": [
        "## générer une liste aléatoire de n entiers compris entre 1 et 366\n",
        "\n",
        "On rappelle que le module random contient une méthode randint(a,b) qui retourne un nombre entier aléatoire compris entre a et b.\n",
        "\n",
        "Compléter le code de la fonction genere_list(n) ci-dessous"
      ]
    },
    {
      "cell_type": "code",
      "metadata": {
        "id": "TadknNfH6BbG",
        "colab_type": "code",
        "colab": {}
      },
      "source": [
        "from random import randint\n",
        "\n",
        "def genere_list(n):\n",
        "    ''' retourne un tableau de longeur n, \n",
        "    contenant des entiers choisis aléatoirement entre 1 et 366 inclus'''\n",
        "    t = [0] * n  # tableau de n cellules initialisées à 0\n",
        "    for i in range (n):\n",
        "        t[i] = randint(1,366) # valeur à modifier !\n",
        "    return t\n"
      ],
      "execution_count": 1,
      "outputs": []
    },
    {
      "cell_type": "code",
      "metadata": {
        "id": "RtPatGEGWksP",
        "colab_type": "code",
        "colab": {}
      },
      "source": [
        "from random import randint\n",
        "\n",
        "def genere_list(n):\n",
        "    ''' retourne un tableau de longeur n, \n",
        "    contenant des entiers choisis aléatoirement entre 1 et 366 inclus'''\n",
        "    return [randint(1,366) for i in range (n)] "
      ],
      "execution_count": 2,
      "outputs": []
    },
    {
      "cell_type": "code",
      "metadata": {
        "id": "cwwSl5ZMWHdx",
        "colab_type": "code",
        "colab": {}
      },
      "source": [
        "t = genere_list(5)"
      ],
      "execution_count": 3,
      "outputs": []
    },
    {
      "cell_type": "code",
      "metadata": {
        "id": "WLyHNuZiYjeK",
        "colab_type": "code",
        "colab": {
          "base_uri": "https://localhost:8080/",
          "height": 34
        },
        "outputId": "c3c30fd2-414e-47a6-95fd-19645a54dc20"
      },
      "source": [
        "t"
      ],
      "execution_count": 4,
      "outputs": [
        {
          "output_type": "execute_result",
          "data": {
            "text/plain": [
              "[104, 57, 3, 124, 20]"
            ]
          },
          "metadata": {
            "tags": []
          },
          "execution_count": 4
        }
      ]
    },
    {
      "cell_type": "code",
      "metadata": {
        "id": "XzfjZbc_Ymh6",
        "colab_type": "code",
        "colab": {
          "base_uri": "https://localhost:8080/",
          "height": 34
        },
        "outputId": "2a7b5616-a0be-4e42-8cc2-a7b1687f2a8a"
      },
      "source": [
        "len(t)"
      ],
      "execution_count": 5,
      "outputs": [
        {
          "output_type": "execute_result",
          "data": {
            "text/plain": [
              "5"
            ]
          },
          "metadata": {
            "tags": []
          },
          "execution_count": 5
        }
      ]
    },
    {
      "cell_type": "markdown",
      "metadata": {
        "id": "tYzHcVeHzHuy",
        "colab_type": "text"
      },
      "source": [
        "Compléter le code de la cellule suivante aux endroits indiqués `###`"
      ]
    },
    {
      "cell_type": "code",
      "metadata": {
        "id": "rZ_FTZKPhC9-",
        "colab_type": "code",
        "colab": {}
      },
      "source": [
        "def detecte_doublon(t):\n",
        "    '''t est un tableau d'entiers compris entre 1 et 366\n",
        "\n",
        "    la fonction renvoie True si le tableau t contient deux fois la même valeur, \n",
        "    et False si t ne contient que des valeurs distinctes '''\n",
        "    for i in range(1, len(t)):\n",
        "        for j in range(i):\n",
        "            if t[i] == t[j]:\n",
        "                return True \n",
        "    return False\n"
      ],
      "execution_count": 6,
      "outputs": []
    },
    {
      "cell_type": "markdown",
      "metadata": {
        "id": "5NBAxTAF1Jtb",
        "colab_type": "text"
      },
      "source": [
        "**Tester la fonction,** sur différents exemples bien choisis"
      ]
    },
    {
      "cell_type": "code",
      "metadata": {
        "id": "f84k2tvA1Spm",
        "colab_type": "code",
        "colab": {
          "base_uri": "https://localhost:8080/",
          "height": 34
        },
        "outputId": "1099172e-3a6a-4f50-c8ab-33eabd3cbb7b"
      },
      "source": [
        "detecte_doublon([1,2,3,4,5,6])"
      ],
      "execution_count": 7,
      "outputs": [
        {
          "output_type": "execute_result",
          "data": {
            "text/plain": [
              "False"
            ]
          },
          "metadata": {
            "tags": []
          },
          "execution_count": 7
        }
      ]
    },
    {
      "cell_type": "code",
      "metadata": {
        "id": "48hOppY31SI6",
        "colab_type": "code",
        "colab": {
          "base_uri": "https://localhost:8080/",
          "height": 34
        },
        "outputId": "d971479a-8941-4da6-8b4e-ec98b77f15bf"
      },
      "source": [
        "detecte_doublon([1,2,3,4,5,6,1])"
      ],
      "execution_count": 8,
      "outputs": [
        {
          "output_type": "execute_result",
          "data": {
            "text/plain": [
              "True"
            ]
          },
          "metadata": {
            "tags": []
          },
          "execution_count": 8
        }
      ]
    },
    {
      "cell_type": "code",
      "metadata": {
        "id": "X5sRDQiN1R6z",
        "colab_type": "code",
        "colab": {
          "base_uri": "https://localhost:8080/",
          "height": 35
        },
        "outputId": "c9cc1459-431a-4768-ced8-2ef0362f64a6"
      },
      "source": [
        "detecte_doublon([1,2,3,4,5,6,6])"
      ],
      "execution_count": 9,
      "outputs": [
        {
          "output_type": "execute_result",
          "data": {
            "text/plain": [
              "True"
            ]
          },
          "metadata": {
            "tags": []
          },
          "execution_count": 9
        }
      ]
    },
    {
      "cell_type": "code",
      "metadata": {
        "id": "gwTrMTLfcKsU",
        "colab_type": "code",
        "colab": {
          "base_uri": "https://localhost:8080/",
          "height": 35
        },
        "outputId": "a8f63f04-cbbf-4997-ab21-be47ca57e52b"
      },
      "source": [
        "detecte_doublon([1,1,3,4,5,6])"
      ],
      "execution_count": 10,
      "outputs": [
        {
          "output_type": "execute_result",
          "data": {
            "text/plain": [
              "True"
            ]
          },
          "metadata": {
            "tags": []
          },
          "execution_count": 10
        }
      ]
    },
    {
      "cell_type": "markdown",
      "metadata": {
        "id": "P0Wdfh5UzSv4",
        "colab_type": "text"
      },
      "source": [
        "Pour évaluer la **rapidité d'exécution** de cette fonction, on va la tester \"dans le pire des cas\"\n",
        "* pour un tableau \"grand\"\n",
        "* qui ne contient pas de doublon"
      ]
    },
    {
      "cell_type": "code",
      "metadata": {
        "id": "9TJVm4-Vh-GY",
        "colab_type": "code",
        "colab": {
          "base_uri": "https://localhost:8080/",
          "height": 35
        },
        "outputId": "cd9b7e74-6c70-43f4-da9e-0188a730e233"
      },
      "source": [
        "from time import perf_counter\n",
        "t_test = [i for i in range(1,367)]\n",
        "\n",
        "start = perf_counter() # début du chrono\n",
        "detecte_doublon(t_test)\n",
        "end = perf_counter()   # fin du chrono\n",
        "print('test effectué en', (end-start)*1000,'ms' )"
      ],
      "execution_count": 30,
      "outputs": [
        {
          "output_type": "stream",
          "text": [
            "test effectué en 5.815514999994775 ms\n"
          ],
          "name": "stdout"
        }
      ]
    },
    {
      "cell_type": "markdown",
      "metadata": {
        "id": "uH24tMzxuMA_",
        "colab_type": "text"
      },
      "source": [
        "# Estimation de la probabilité de doublon lorsque n=23"
      ]
    },
    {
      "cell_type": "code",
      "metadata": {
        "id": "I4_qRRL0uaXG",
        "colab_type": "code",
        "colab": {}
      },
      "source": [
        "def evalue_proba(n, taille):\n",
        "    '''n : nombre de valeurs contenues dans une liste de l'échantillon\n",
        "    taille : nombre total de liste générées dans l'échantillon\n",
        "    \n",
        "    La fonction retourne la fréquence des doublons dans un échantillon de taille listes contenant n valeurs chacunes '''\n",
        "    nb_doublons = 0\n",
        "    for i in range(taille):\n",
        "        t = genere_list(n)\n",
        "        if detecte_doublon(t):\n",
        "            nb_doublons = nb_doublons+1  # ou nb_doublons += 1\n",
        "    return nb_doublons/taille"
      ],
      "execution_count": 16,
      "outputs": []
    },
    {
      "cell_type": "code",
      "metadata": {
        "id": "iyB6RS5WvMND",
        "colab_type": "code",
        "colab": {
          "base_uri": "https://localhost:8080/",
          "height": 35
        },
        "outputId": "aab7ba3a-d2a8-476f-dea3-0d984e52c5f0"
      },
      "source": [
        "evalue_proba(23,100000)"
      ],
      "execution_count": 23,
      "outputs": [
        {
          "output_type": "execute_result",
          "data": {
            "text/plain": [
              "0.50544"
            ]
          },
          "metadata": {
            "tags": []
          },
          "execution_count": 23
        }
      ]
    },
    {
      "cell_type": "markdown",
      "metadata": {
        "id": "H3407nZ2jBJ1",
        "colab_type": "text"
      },
      "source": [
        "# Trier le tableau avant de tester les doublons"
      ]
    },
    {
      "cell_type": "markdown",
      "metadata": {
        "id": "W7GdZKe_gbgX",
        "colab_type": "text"
      },
      "source": [
        "Aide : `sorted()` permet de trier le tableau passé en paramètre, sans le modifier."
      ]
    },
    {
      "cell_type": "code",
      "metadata": {
        "id": "rsPQ8WAXfTII",
        "colab_type": "code",
        "colab": {}
      },
      "source": [
        "tab = [4,2,8,10,0]"
      ],
      "execution_count": 24,
      "outputs": []
    },
    {
      "cell_type": "code",
      "metadata": {
        "id": "PmjQ6BX_fWx-",
        "colab_type": "code",
        "colab": {
          "base_uri": "https://localhost:8080/",
          "height": 35
        },
        "outputId": "77a6c46f-92e8-42e8-a513-9387fa6835ff"
      },
      "source": [
        "sorted(tab)"
      ],
      "execution_count": 25,
      "outputs": [
        {
          "output_type": "execute_result",
          "data": {
            "text/plain": [
              "[0, 2, 4, 8, 10]"
            ]
          },
          "metadata": {
            "tags": []
          },
          "execution_count": 25
        }
      ]
    },
    {
      "cell_type": "code",
      "metadata": {
        "id": "Khr5WddGfnBm",
        "colab_type": "code",
        "colab": {
          "base_uri": "https://localhost:8080/",
          "height": 35
        },
        "outputId": "73010148-07c6-47f0-c89a-1eb229f76051"
      },
      "source": [
        "tab "
      ],
      "execution_count": 26,
      "outputs": [
        {
          "output_type": "execute_result",
          "data": {
            "text/plain": [
              "[4, 2, 8, 10, 0]"
            ]
          },
          "metadata": {
            "tags": []
          },
          "execution_count": 26
        }
      ]
    },
    {
      "cell_type": "markdown",
      "metadata": {
        "id": "mnDtAR5U0CK1",
        "colab_type": "text"
      },
      "source": [
        "Il est possible d'améliorer la rapidité de detecte_doublon si le tableau est trié.\n",
        "\n",
        "On peut utiliser pour cela la commande sorted(tab) qui retoune un tableau trié, contenant les même valeurs que tab, sans modifier tab."
      ]
    },
    {
      "cell_type": "code",
      "metadata": {
        "id": "KstdsD-Hjmli",
        "colab_type": "code",
        "colab": {}
      },
      "source": [
        "def detecte_doublon_tri(tab):\n",
        "    '''t est un tableau d'entiers compris entre 1 et 366\n",
        "\n",
        "    la fonction renvoie True si le tableau t contient deux fois la même valeur, \n",
        "    et False si t ne contient que des valeurs distinctes '''\n",
        "    t = sorted(tab)\n",
        "    for i in range(len(t)-1):\n",
        "        if t[i] == t[i+1] : \n",
        "            return True \n",
        "    return False \n",
        "\n"
      ],
      "execution_count": 27,
      "outputs": []
    },
    {
      "cell_type": "code",
      "metadata": {
        "id": "G4HugL50k0f7",
        "colab_type": "code",
        "colab": {
          "base_uri": "https://localhost:8080/",
          "height": 35
        },
        "outputId": "dc5aaac9-aa2b-4ee9-a375-036f511c9427"
      },
      "source": [
        "from random import shuffle\n",
        "t = [1,2,3,4]\n",
        "shuffle(t)\n",
        "t"
      ],
      "execution_count": 28,
      "outputs": [
        {
          "output_type": "execute_result",
          "data": {
            "text/plain": [
              "[3, 2, 4, 1]"
            ]
          },
          "metadata": {
            "tags": []
          },
          "execution_count": 28
        }
      ]
    },
    {
      "cell_type": "code",
      "metadata": {
        "id": "IcQp2_Jrj6qo",
        "colab_type": "code",
        "colab": {
          "base_uri": "https://localhost:8080/",
          "height": 35
        },
        "outputId": "3a4eecec-7b9e-4efe-99b8-78c66cf39ad7"
      },
      "source": [
        "from time import perf_counter\n",
        "from random import shuffle\n",
        "\n",
        "t_test =  [i for i in range(1,367)]\n",
        "shuffle(t_test)\n",
        "\n",
        "start = perf_counter() #début du chrono\n",
        "detecte_doublon_tri(t_test)\n",
        "end = perf_counter() #fin du chrono\n",
        "print('test effectué en', (end-start)*1000,'ms' )"
      ],
      "execution_count": 29,
      "outputs": [
        {
          "output_type": "stream",
          "text": [
            "test effectué en 0.1351599998997699 ms\n"
          ],
          "name": "stdout"
        }
      ]
    }
  ]
}